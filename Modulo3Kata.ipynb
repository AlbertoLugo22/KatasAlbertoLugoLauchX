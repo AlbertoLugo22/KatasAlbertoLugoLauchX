{
 "cells": [
  {
   "cell_type": "markdown",
   "metadata": {},
   "source": [
    "## Problema 1"
   ]
  },
  {
   "cell_type": "code",
   "execution_count": 49,
   "metadata": {},
   "outputs": [
    {
     "name": "stdout",
     "output_type": "stream",
     "text": [
      "¡Alerta maxima! El asteroide viene a gran velocidad.\n"
     ]
    }
   ],
   "source": [
    "velocidad_asteroide = 49\n",
    "if velocidad_asteroide > 25:\n",
    "    print(\"¡Alerta maxima! El asteroide viene a gran velocidad.\")\n",
    "else:\n",
    "    print(\"Velocidad del asteroide estable.\")"
   ]
  },
  {
   "cell_type": "markdown",
   "metadata": {},
   "source": [
    "## Problema 2"
   ]
  },
  {
   "cell_type": "code",
   "execution_count": 50,
   "metadata": {},
   "outputs": [
    {
     "name": "stdout",
     "output_type": "stream",
     "text": [
      "No hay visualizacion de asteroides\n"
     ]
    }
   ],
   "source": [
    "velocidad_asteroide = 19\n",
    "if velocidad_asteroide > 20:\n",
    "    print(\"¡Volteen a ver el cielo! Busquen un rayo de luz.\")\n",
    "elif velocidad_asteroide == 20:\n",
    "    print(\"¡Volteen a ver el cielo! Busquen un rayo de luz.\")\n",
    "else:\n",
    "    print(\"No hay visualizacion de asteroides\")\n"
   ]
  },
  {
   "cell_type": "markdown",
   "metadata": {},
   "source": [
    "## Problema 3"
   ]
  },
  {
   "cell_type": "code",
   "execution_count": 51,
   "metadata": {},
   "outputs": [
    {
     "name": "stdout",
     "output_type": "stream",
     "text": [
      "¡Alerta máxima, un asteroide muy peligroso se acerca al planeta!\n"
     ]
    }
   ],
   "source": [
    "velocidad_asteroide = 25\n",
    "tamano_asteroide = 40\n",
    "if velocidad_asteroide >= 25 or tamano_asteroide >= 25:\n",
    "    print(\"¡Alerta máxima, un asteroide muy peligroso se acerca al planeta!\")\n",
    "elif velocidad_asteroide >= 20:\n",
    "    print(\"¡Volteen al cielo! Busquen un rayo de luz.\")\n",
    "elif tamano_asteroide < 25:\n",
    "    print(\"No hay peligro.\")\n",
    "else:\n",
    "    print(\"No hay peligro.\")"
   ]
  }
 ],
 "metadata": {
  "interpreter": {
   "hash": "6d8a2046d32e71463d8b82d4322ba1811d631674c6bffc730de4b2fa7f3a7312"
  },
  "kernelspec": {
   "display_name": "Python 3.10.2 64-bit (windows store)",
   "language": "python",
   "name": "python3"
  },
  "language_info": {
   "codemirror_mode": {
    "name": "ipython",
    "version": 3
   },
   "file_extension": ".py",
   "mimetype": "text/x-python",
   "name": "python",
   "nbconvert_exporter": "python",
   "pygments_lexer": "ipython3",
   "version": "3.10.2"
  },
  "orig_nbformat": 4
 },
 "nbformat": 4,
 "nbformat_minor": 2
}
