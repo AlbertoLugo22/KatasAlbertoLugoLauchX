{
 "cells": [
  {
   "cell_type": "markdown",
   "metadata": {},
   "source": [
    "## Ejercicio 1"
   ]
  },
  {
   "cell_type": "code",
   "execution_count": 1,
   "metadata": {},
   "outputs": [
    {
     "name": "stdout",
     "output_type": "stream",
     "text": [
      "628949330 km\n"
     ]
    }
   ],
   "source": [
    "tierra = 149597870\n",
    "jupiter = 778547200\n",
    "\n",
    "print(jupiter - tierra, \"km\")"
   ]
  },
  {
   "cell_type": "code",
   "execution_count": 2,
   "metadata": {},
   "outputs": [
    {
     "name": "stdout",
     "output_type": "stream",
     "text": [
      "390577533.93 mi\n"
     ]
    }
   ],
   "source": [
    "print((jupiter - tierra)*0.621, \"mi\")"
   ]
  },
  {
   "cell_type": "markdown",
   "metadata": {},
   "source": [
    "## Ejercicio 2"
   ]
  },
  {
   "cell_type": "code",
   "execution_count": 5,
   "metadata": {},
   "outputs": [
    {
     "name": "stdout",
     "output_type": "stream",
     "text": [
      "41400000 km\n",
      "25709400.0 mi\n"
     ]
    }
   ],
   "source": [
    "planeta_1 = input(\"Ingresa la distancia del primer planeta con respecto al Sol: \")\n",
    "planeta_2 = input(\"Ingresa la distancia del segundo planeta con respecto al Sol: \")\n",
    "\n",
    "planeta_1 = int(planeta_1)\n",
    "planeta_2 = int(planeta_2)\n",
    "\n",
    "distancia_km = planeta_2 - planeta_1\n",
    "print(abs(distancia_km), \"km\")\n",
    "distancia_mi = distancia_km * 0.621\n",
    "print(abs(distancia_mi), \"mi\")"
   ]
  }
 ],
 "metadata": {
  "interpreter": {
   "hash": "684df39f570ffbe5928493cf30c07b38910539662312326fc9f7ef02ddfe919d"
  },
  "kernelspec": {
   "display_name": "Python 3.10.2 ('env': venv)",
   "language": "python",
   "name": "python3"
  },
  "language_info": {
   "codemirror_mode": {
    "name": "ipython",
    "version": 3
   },
   "file_extension": ".py",
   "mimetype": "text/x-python",
   "name": "python",
   "nbconvert_exporter": "python",
   "pygments_lexer": "ipython3",
   "version": "3.10.2"
  },
  "orig_nbformat": 4
 },
 "nbformat": 4,
 "nbformat_minor": 2
}
