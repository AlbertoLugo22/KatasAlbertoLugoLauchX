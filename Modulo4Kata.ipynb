{
 "cells": [
  {
   "cell_type": "markdown",
   "metadata": {},
   "source": [
    "## Ejercicio 1"
   ]
  },
  {
   "cell_type": "code",
   "execution_count": 2,
   "metadata": {},
   "outputs": [
    {
     "name": "stdout",
     "output_type": "stream",
     "text": [
      "Interesting facts about the Moon:\n",
      " The Moon is Earth's only satellite.\n",
      " There are several interesting facts about the Moon and how it affects life here on Earth.\n",
      " On average, the Moon moves 4cm away from the Earth every year.\n",
      " This yearly drift is not significant enough to cause immediate effects on Earth.\n",
      " The highest daylight temperature of the Moon is 127 C.\n"
     ]
    },
    {
     "data": {
      "text/plain": [
       "['Interesting facts about the Moon:',\n",
       " \" The Moon is Earth's only satellite.\",\n",
       " ' There are several interesting facts about the Moon and how it affects life here on Earth.',\n",
       " ' On average, the Moon moves 4cm away from the Earth every year.',\n",
       " ' This yearly drift is not significant enough to cause immediate effects on Earth.',\n",
       " ' The highest daylight temperature of the Moon is 127 C.']"
      ]
     },
     "execution_count": 2,
     "metadata": {},
     "output_type": "execute_result"
    }
   ],
   "source": [
    "text = \"\"\"Interesting facts about the Moon:\\n The Moon is Earth's only satellite.\\n There are several interesting facts about the Moon and how it affects life here on Earth.\\n On average, the Moon moves 4cm away from the Earth every year.\\n This yearly drift is not significant enough to cause immediate effects on Earth.\\n The highest daylight temperature of the Moon is 127 C.\"\"\"\n",
    "print(text)\n",
    "text_parts = text.split('\\n')\n",
    "text_parts\n"
   ]
  },
  {
   "cell_type": "code",
   "execution_count": 77,
   "metadata": {},
   "outputs": [
    {
     "name": "stdout",
     "output_type": "stream",
     "text": [
      " On average, the Moon moves 4cm away from the Earth every year.\n",
      " This yearly drift is not significant enough to cause immediate effects on Earth.\n",
      " The highest daylight temperature of the Moon is 127 C.\n"
     ]
    }
   ],
   "source": [
    "palabras_clave = \"average\", \"temperature\", \"drift\"\n",
    "for sentence in text_parts:\n",
    "    for key_word in palabras_clave:\n",
    "        if key_word in sentence:\n",
    "            print(sentence)\n",
    "            break"
   ]
  },
  {
   "cell_type": "code",
   "execution_count": 78,
   "metadata": {},
   "outputs": [
    {
     "name": "stdout",
     "output_type": "stream",
     "text": [
      " On average, the Moon moves 4cm away from the Earth every year.\n",
      " This yearly drift is not significant enough to cause immediate effects on Earth.\n",
      " The highest daylight temperature of the Moon is 127 Celsius.\n"
     ]
    }
   ],
   "source": [
    "palabras_clave = \"average\", \"temperature\", \"drift\"\n",
    "for sentence in text_parts:\n",
    "    for key_word in palabras_clave:\n",
    "        if key_word in sentence:\n",
    "            print(sentence.replace('C', 'Celsius'))\n",
    "            break"
   ]
  },
  {
   "cell_type": "markdown",
   "metadata": {},
   "source": [
    "## Ejercicio 2"
   ]
  },
  {
   "cell_type": "code",
   "execution_count": 89,
   "metadata": {},
   "outputs": [],
   "source": [
    "name = \"Moon\"\n",
    "gravity = 0.00162\n",
    "planet = \"Earth\" \n"
   ]
  },
  {
   "cell_type": "code",
   "execution_count": 94,
   "metadata": {},
   "outputs": [
    {
     "name": "stdout",
     "output_type": "stream",
     "text": [
      "Gravity Facts About Moon\n"
     ]
    }
   ],
   "source": [
    "titulo = f\"gravity facts about {name}\".title()\n",
    "print(titulo)"
   ]
  },
  {
   "cell_type": "code",
   "execution_count": 97,
   "metadata": {},
   "outputs": [
    {
     "name": "stdout",
     "output_type": "stream",
     "text": [
      " Gravity Facts About Moon\n",
      " -------------------------------------------------------------------------------- \n",
      " Planet name: Earth\n",
      " Gravity on Moon: 1.6199999999999999 m/s2\n"
     ]
    }
   ],
   "source": [
    "plantilla = f\" {titulo}\\n {'-'*80} \\n Planet name: {planet}\\n Gravity on {name}: {gravity*1000} m/s2\"\n",
    "print(plantilla)"
   ]
  },
  {
   "cell_type": "code",
   "execution_count": 99,
   "metadata": {},
   "outputs": [],
   "source": [
    "planeta = \"Marte\"\n",
    "gravedad = 0.00143\n",
    "nombre = \"Ganímedes\""
   ]
  },
  {
   "cell_type": "code",
   "execution_count": 104,
   "metadata": {},
   "outputs": [
    {
     "name": "stdout",
     "output_type": "stream",
     "text": [
      "Gravity Facts About Marte\n",
      " --------------------------------------------------------------------------------\n",
      " Planet name: Marte\n",
      " Gravity on Ganímedes: 1.4300000000000002 m/s2\n"
     ]
    }
   ],
   "source": [
    "nueva_plantilla = \"\"\"Gravity Facts About {marte}\\n --------------------------------------------------------------------------------\\n Planet name: {planeta}\\n Gravity on {nombre}: {gravedad} m/s2\"\"\"\n",
    "print(nueva_plantilla.format(marte=planeta, planeta=planeta, nombre=nombre, gravedad=gravedad*1000))"
   ]
  }
 ],
 "metadata": {
  "interpreter": {
   "hash": "684df39f570ffbe5928493cf30c07b38910539662312326fc9f7ef02ddfe919d"
  },
  "kernelspec": {
   "display_name": "Python 3.10.2 ('env': venv)",
   "language": "python",
   "name": "python3"
  },
  "language_info": {
   "codemirror_mode": {
    "name": "ipython",
    "version": 3
   },
   "file_extension": ".py",
   "mimetype": "text/x-python",
   "name": "python",
   "nbconvert_exporter": "python",
   "pygments_lexer": "ipython3",
   "version": "3.10.2"
  },
  "orig_nbformat": 4
 },
 "nbformat": 4,
 "nbformat_minor": 2
}
